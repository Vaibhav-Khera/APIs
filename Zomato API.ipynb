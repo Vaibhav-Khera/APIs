{
 "cells": [
  {
   "cell_type": "markdown",
   "metadata": {},
   "source": [
    "# Zomato Cuisine Problem\n",
    "## MEXICAN Cuisine\n",
    "### Problem 1\n",
    "\n",
    "> Mexican cuisine began about 9,000 years ago, when agricultural communities such as the Maya formed, domesticating maize, creating the standard process of corn nixtamalization, and establishing their foodways.\n",
    "> You are a huge fan of ‘Mexican’ cuisine.\n",
    "\n",
    "Now using the Zomato API you want to analyse the best restaurant serving the Mexican Cuisine, their locations, and cost for two, etc."
   ]
  },
  {
   "cell_type": "markdown",
   "metadata": {},
   "source": [
    "### 1.1Fetch the cuisine_id of ‘Mexican’ cuisine using Zomato API.\n",
    "- Print the cuisine_id."
   ]
  },
  {
   "cell_type": "code",
   "execution_count": 1,
   "metadata": {},
   "outputs": [
    {
     "name": "stdout",
     "output_type": "stream",
     "text": [
      "73\n"
     ]
    }
   ],
   "source": [
    "import requests\n",
    "from requests.auth import HTTPBasicAuth\n",
    "import json\n",
    "a=requests.get('https://developers.zomato.com/api/v2.1/cuisines' ,headers = {'Accept': 'application/json','user-key': '03ae459a8a0fb288b359ff5632b97fad'},params = {'city_id':280} )\n",
    "py_data = a.json()\n",
    "for i in py_data['cuisines']:\n",
    "    if(i['cuisine']['cuisine_name'] == \"Mexican\"):\n",
    "        print(i['cuisine']['cuisine_id'])"
   ]
  },
  {
   "cell_type": "markdown",
   "metadata": {},
   "source": [
    "### 1.2.Fetch the entityid and entitytype of place Connaught Place.\n",
    "- Print the entityid and entitytype"
   ]
  },
  {
   "cell_type": "code",
   "execution_count": 2,
   "metadata": {},
   "outputs": [
    {
     "name": "stdout",
     "output_type": "stream",
     "text": [
      "subzone   104\n"
     ]
    }
   ],
   "source": [
    "\n",
    "a=requests.get('https://developers.zomato.com/api/v2.1/locations' ,headers = {'Accept': 'application/json','user-key': '03ae459a8a0fb288b359ff5632b97fad'},params = {'query':'Connaught Place'} )\n",
    "py_data = a.json()\n",
    "for i in py_data['location_suggestions']:\n",
    "    print(i['entity_type'],\" \",i['entity_id'])"
   ]
  },
  {
   "cell_type": "markdown",
   "metadata": {},
   "source": [
    "### 1.3.Fetch the top 10 best-rated restaurant serving ‘Mexican’ cuisine present in Connaught Place.\n",
    "- Print the restaurant name, user rating and restaurant id."
   ]
  },
  {
   "cell_type": "code",
   "execution_count": 6,
   "metadata": {},
   "outputs": [
    {
     "name": "stdout",
     "output_type": "stream",
     "text": [
      "Chili's Grill & Bar 4.6 18537536\n",
      "38 Barracks 4.6 18241537\n",
      "Ministry Of Beer 4.5 18418277\n",
      "Xero Degrees 4.4 18729557\n",
      "Farzi Cafe 4.3 18233593\n",
      "Bunta Bar Live 4.3 18623406\n",
      "Unplugged Courtyard 4.2 18216901\n",
      "Excuse Me Boss 4.2 307036\n",
      "Punjabi By Nature 4.2 306497\n",
      "The Art House Bar n Cafe 4.2 18863766\n"
     ]
    }
   ],
   "source": [
    "\n",
    "a=requests.get('https://developers.zomato.com/api/v2.1/search' ,headers = {'Accept': 'application/json','user-key': '03ae459a8a0fb288b359ff5632b97fad'},params = {'entity_id':104,'entity_type':'subzone','cuisines':73,'count':10,'sort':'rating','order':'desc'} )\n",
    "py_data = a.json()\n",
    "for i in py_data['restaurants']:\n",
    "    print(i['restaurant']['name'],i['restaurant']['user_rating']['aggregate_rating'],i['restaurant']['R']['res_id'])"
   ]
  },
  {
   "cell_type": "markdown",
   "metadata": {},
   "source": [
    "### 1.4.Fetch the category id of category type ‘Cafes’ using Zomato API.\n",
    "- Print the category_id."
   ]
  },
  {
   "cell_type": "code",
   "execution_count": 7,
   "metadata": {},
   "outputs": [
    {
     "name": "stdout",
     "output_type": "stream",
     "text": [
      "6\n"
     ]
    }
   ],
   "source": [
    "\n",
    "user_key='3754f0440b3026cde542ed69af9f499a'\n",
    "basic_api='https://developers.zomato.com/api/v2.1'\n",
    "header={'Accept': 'application/json','user-key':user_key,}\n",
    "response=requests.get(basic_api+'/categories',headers=header)\n",
    "establishment_id=0\n",
    "for i in response.json().get('categories'):\n",
    "    if(i.get('categories').get('name')=='Cafes'):\n",
    "        establishment_id=i.get('categories').get('id')\n",
    "print(establishment_id)"
   ]
  },
  {
   "cell_type": "markdown",
   "metadata": {},
   "source": [
    "### 1.5.Fetch the best-rated restaurant for ‘Mexican’ cuisine with category type ‘ Cafes’ present in Connaught Place using Zomato API.\n",
    "- Print the restaurant name, user rating and restaurant id."
   ]
  },
  {
   "cell_type": "code",
   "execution_count": 8,
   "metadata": {},
   "outputs": [
    {
     "name": "stdout",
     "output_type": "stream",
     "text": [
      "Xero Degrees 4.4 18729557\n",
      "The Art House Bar n Cafe 4.2 18863766\n",
      "Cafe Delhi Heights 4.1 18579363\n",
      "Cafe Coffee Day - The Square 3.8 303034\n"
     ]
    }
   ],
   "source": [
    "\n",
    "a=requests.get('https://developers.zomato.com/api/v2.1/search' ,headers = {'Accept': 'application/json','user-key': '03ae459a8a0fb288b359ff5632b97fad'},params = {'entity_id':104,'entity_type':'subzone','category':6,'cuisines':73,'count':10,'sort':'rating','order':'desc'} )\n",
    "py_data = a.json()\n",
    "for i in py_data['restaurants']:\n",
    "    print(i['restaurant']['name'],i['restaurant']['user_rating']['aggregate_rating'],i['restaurant']['R']['res_id'])"
   ]
  },
  {
   "cell_type": "markdown",
   "metadata": {},
   "source": [
    "### 1.6.Fetch the latest review of the best-rated restaurant for ‘Mexican’ cuisine with Category type ‘Cafes’ present in Connaught Place using Zomato API.\n",
    "- Print the name of user ,user rating and review text."
   ]
  },
  {
   "cell_type": "code",
   "execution_count": 9,
   "metadata": {},
   "outputs": [
    {
     "name": "stdout",
     "output_type": "stream",
     "text": [
      "Khushii Khushiíi 5 \n",
      "Neha Brij Pal Singh 4 I visited this place with my friends on my birthday, no doubt their ambience is obviously classic. The food we ordered was delicious and drinks were too good. Overall presentation of the food was great here👍🏻\n",
      "Simran Kapoor 4 There live music is just amazing\n",
      "Jasmeen Manocha 4 A nice decor with great food. We ordered chicken lassagna and i will give 4/5 and lemon mojito 5/5. The lassagna was more than sufficient in quantity and the drink was very refreshing.  And cant forget to mention the live music which mesmerized our heart and made our lunch more appeasing🤩\n",
      "Oye Pumpkin 5 \n"
     ]
    }
   ],
   "source": [
    "\n",
    "header={\"Accept\": \"application/json\",\"User-Key\": \"e02117ae27e46815066733b0860c96c4\",'User-Agent':'curl/7.43.0'}\n",
    "cp_entity_id=18241537\n",
    "c_entity_type='subzone'\n",
    "params={'res_id':cp_entity_id}\n",
    "\n",
    "r=requests.get('https://developers.zomato.com/api/v2.1'+'/reviews',headers=header,params=params)\n",
    "\n",
    "\n",
    "for i in r.json().get('user_reviews'):\n",
    "    print(i.get('review').get('user').get('name'),i.get('review').get('rating'),i.get('review').get('review_text'))"
   ]
  },
  {
   "cell_type": "markdown",
   "metadata": {},
   "source": [
    "# Zomato Restaurant Problem\n",
    "## Problem 2\n",
    "> 736 AD is Brick-walled lounge bar serving international dishes and a range of cocktails and shooters.\n",
    "You have heard from your friends that restaurant 736 A.D is quite good.\n",
    "\n",
    "Now you want to extract the information related to restaurant 736 A.D using Zomato API."
   ]
  },
  {
   "cell_type": "markdown",
   "metadata": {},
   "source": [
    "### 2.1.Fetch the details of restaurant 736 AD using Zomato API.\n",
    "- Print the user rating, average cost for two, cuisines and address of 736 AD."
   ]
  },
  {
   "cell_type": "code",
   "execution_count": 10,
   "metadata": {},
   "outputs": [
    {
     "name": "stdout",
     "output_type": "stream",
     "text": [
      "4.3\n",
      "1400\n",
      "North Indian, Continental, Italian, Chinese\n",
      "G-15/B, Vijay Nagar, New Delhi\n"
     ]
    }
   ],
   "source": [
    "\n",
    "user_key='3754f0440b3026cde542ed69af9f499a'\n",
    "basic_api='https://developers.zomato.com/api/v2.1'\n",
    "header={\"User-agent\": \"curl/7.43.0\",'Accept': 'application/json','user-key':user_key}\n",
    "res_id=18241524\n",
    "params={'res_id':res_id}\n",
    "response=requests.get(basic_api+'/restaurant',headers=header,params=params)\n",
    "address=response.json().get('location').get('address')\n",
    "cuisines=response.json().get('cuisines')\n",
    "rating=response.json().get('user_rating').get('aggregate_rating')\n",
    "average_cost=response.json().get('average_cost_for_two')\n",
    "print(rating)\n",
    "print(average_cost)\n",
    "print(cuisines)\n",
    "print(address)"
   ]
  },
  {
   "cell_type": "markdown",
   "metadata": {},
   "source": [
    "### 2.2.Find out whether online table reservation is supported in 736 AD or not using Zomato API.\n",
    "- Print 'yes' if online table reservation is supported else 'no'\n",
    "\n",
    "Note :\n",
    "In Zomato response JSON. 1=Yes and 0 = No"
   ]
  },
  {
   "cell_type": "code",
   "execution_count": 12,
   "metadata": {},
   "outputs": [
    {
     "name": "stdout",
     "output_type": "stream",
     "text": [
      "no\n"
     ]
    }
   ],
   "source": [
    "\n",
    "user_key='3754f0440b3026cde542ed69af9f499a'\n",
    "basic_api='https://developers.zomato.com/api/v2.1'\n",
    "header={\"User-agent\": \"curl/7.43.0\",'Accept': 'application/json','user-key':user_key}\n",
    "res_id=18241524\n",
    "params={'res_id':res_id}\n",
    "response=requests.get(basic_api+'/restaurant',headers=header,params=params)\n",
    "reservation=response.json().get('is_table_reservation_supported')\n",
    "if reservation==1:\n",
    "    print('yes')\n",
    "else:\n",
    "    print('no')"
   ]
  },
  {
   "cell_type": "markdown",
   "metadata": {},
   "source": [
    "### 2.3.Fetch the latest review of restaurant 736 AD using Zomato API.\n",
    "- Print the name of user ,user rating and review text.\n",
    "\n",
    "Note :\n",
    "Due to limitation of basic API plan, it can only fetch 5 latest review"
   ]
  },
  {
   "cell_type": "code",
   "execution_count": 13,
   "metadata": {},
   "outputs": [
    {
     "name": "stdout",
     "output_type": "stream",
     "text": [
      "Palak Sharma 4 \n",
      "Ankita Sharma | Geographyedible 😎✌️ 5 All time favourite place ♥️💝\n",
      "Lavanya Kv 4 \n",
      "Foodieszonee 4 It’s a very nice place to hangout and has a very nice ambience, great dj and the food was very good must try white sauce pasta.  Good and fast service also reasonable price.\n",
      "Prerana Verma 5 \n"
     ]
    }
   ],
   "source": [
    "\n",
    "user_key='3754f0440b3026cde542ed69af9f499a'\n",
    "basic_api='https://developers.zomato.com/api/v2.1'\n",
    "res_id=18241524\n",
    "params={'res_id':res_id}\n",
    "header={\"User-agent\": \"curl/7.43.0\",'Accept': 'application/json','user-key':user_key}\n",
    "response=requests.get(basic_api+'/reviews',headers=header,params=params)\n",
    "for i in response.json().get('user_reviews'):\n",
    "    print(i.get('review').get('user').get('name'),i.get('review').get('rating'),i.get('review').get('review_text'))"
   ]
  },
  {
   "cell_type": "markdown",
   "metadata": {},
   "source": [
    "# Zomato Distance Problem\n",
    "## Problem 3\n",
    "> Distance is also a very important factor while selecting a restaurant. Suppose you are at Coding Ninjas and you want to select the restaurant which is near to you using Zomato API.\n",
    "\n",
    "Note down the latitude and longitude of Coding Ninjas using Google Maps"
   ]
  },
  {
   "cell_type": "markdown",
   "metadata": {},
   "source": [
    "### 3.1.Fetch the cuisine_id of of cuisine ‘BBQ’ using Zomato API.\n",
    "- Print the cuisine_id"
   ]
  },
  {
   "cell_type": "code",
   "execution_count": 14,
   "metadata": {},
   "outputs": [
    {
     "name": "stdout",
     "output_type": "stream",
     "text": [
      "193\n"
     ]
    }
   ],
   "source": [
    "\n",
    "user_key='3754f0440b3026cde542ed69af9f499a'\n",
    "basic_api='https://developers.zomato.com/api/v2.1'\n",
    "params={'city_id':1}\n",
    "header={\"User-agent\": \"curl/7.43.0\",'Accept': 'application/json','user-key':user_key}\n",
    "response=requests.get(basic_api+'/cuisines',headers=header,params=params)\n",
    "cuisine_id=0\n",
    "for i in response.json().get('cuisines'):\n",
    "    if(i.get('cuisine').get('cuisine_name')=='BBQ'):\n",
    "        cuisine_id=i.get('cuisine').get('cuisine_id')\n",
    "print(cuisine_id)"
   ]
  },
  {
   "cell_type": "markdown",
   "metadata": {},
   "source": [
    "### 3.2Fetch the list of the top 10 restaurants serving cuisine ‘BBQ’ which are nearest to Coding Ninjas.\n",
    "- Print the restaurant name, user rating, restaurant id and locality in which restaurant is present."
   ]
  },
  {
   "cell_type": "code",
   "execution_count": 15,
   "metadata": {},
   "outputs": [
    {
     "name": "stdout",
     "output_type": "stream",
     "text": [
      "Themis Barbecue House 4.5 18204820 Netaji Subhash Place\n",
      "Barbeque Nation 4.1 9561 Netaji Subhash Place\n",
      "New Bombay Bar-Be-Que 3.6 5303 Prashant Vihar\n",
      "Amazings Kitchen 0 19370424 Prashant Vihar\n",
      "Moet's Barbeque 0 19238917 Alipur\n",
      "UBQ by Barbeque Nation 3.8 18889760 Rohini\n",
      "Kays Bar-Be-Que 3.8 3079 Ashok Vihar Phase 1\n",
      "Chicken Adda 0 19179179 Rohini\n",
      "7teen BBQ Bistro Bnq 3.8 18595610 Moti Nagar\n",
      "Pishori Chicken 0 19061375 Kirti Nagar\n"
     ]
    }
   ],
   "source": [
    "\n",
    "rating =[]\n",
    "header ={\"User-agent\": \"curl/7.43.0\",'Accept':'application/json','user-key':'c6f731f5ed3d94a005de7e0dc877d093'}\n",
    "cp_entity_id=282\n",
    "cp_entity_type='subzone'\n",
    "cuisine_id=193\n",
    "# params={'entity_id':cp_entity_id,'entity_type':cp_entity_type,'sort':'rating','cuisines':cuisine_id,'order':'desc'}\n",
    "latitude=\"28.697522\"\n",
    "longitude=\"77.140681\"\n",
    "params={'lat':latitude,'lon':longitude,'cuisines':193,'sort':'real_distance','count':10}\n",
    "response=requests.get('https://developers.zomato.com/api/v2.1/search',headers=header,params=params)\n",
    "for i in response.json().get('restaurants'):\n",
    "    print(i.get('restaurant').get('name'),i.get('restaurant').get('user_rating').get('aggregate_rating'),\n",
    "    i.get('restaurant').get('R').get('res_id'),i.get('restaurant').get('location').get('locality'))"
   ]
  },
  {
   "cell_type": "markdown",
   "metadata": {},
   "source": [
    "### 3.3Fetch the latest review of the restaurant serving cuisine ‘BBQ’ which is most nearest to Coding ninjas?\n",
    "- Print the name of user ,user rating and review text.\n",
    "\n",
    "Note :\n",
    "Due to limitation of basic API plan it, can only fetch 5 latest review"
   ]
  },
  {
   "cell_type": "code",
   "execution_count": 16,
   "metadata": {},
   "outputs": [
    {
     "name": "stdout",
     "output_type": "stream",
     "text": [
      "ANNANT VASHIST 5 I celebrated my bday in Themis barbecue . I enjoyed a lot and the staff was really good nd the food is very delicious .\n",
      "Sangeeta Kalita (thatcravingfoodie) 4 Visited them last month. On entering, you realise that the indoor seating area is not that spacious. I wanted to be seated outdoors, but then it's only allowed for dinner time. I wasn't very taken by the ambiance.  Coming to the food, I opted for the non-vegetarian buffet option. For drinks, I chose a litchi based mocktail. You could also go for beer or whisky which I think I should have chosen too, now that I think of it. But there's no use crying over spilled milk now. So coming back to my litchi mocktail, let me say it was awesome. Tart and sweet and zingy. Was a pleasant accompaniment to the starters. I really liked the chilly fish, chicken tikka, crispy corn. Cajun potatoes lacked that kick and mutton seekh was really dry. The paneer tikka too wasn't flavourful enough. And the pizza base was very tough.  The main course was so delicious. I am a manchow soup lover. And I helped myself to bowls of the veg manchow soup. Then I came across chicken hot and sour soup and gobbled that up too. I also tried different salads I think you could and should skip them. The chicken biryani and mutton rogan josh warmed up my soul with their distinctly spiced flavours. The biryani deserves special mention with the overwhelming aroma of whole spices and chunky chicken pieces. The rogan josh curry was hot and spicy and I was satisfied then and there. Nevertheless, greed occupied me again while going through other dishes and this time I helped myself to hakka chowmein and stir fried veggies in basil chilly sauce (yeah it's veg. Don't be surprised). The veggie gravy was utterly savoury and had so much going on. Sweet, sour, salty, that fresh basil hit. And by then I realised I was almost full and had to end my main course eating spree.  Coming to desserts, gulab jamuns were soul warming. The chocolate pastry was lush and bitter and kept me wanting more. The tarts were creamy and crumbley. Delicious. Moong dal halwa was all ghee and nuts and heavenly. And the strawberry ice cream was creamy and screamed fresh strawberries and not the artificial colour and flavour stuff.  Overall, it was a decent experience. Although I think cutting out the live music part during afternoons wouldn't be a bad idea afterall. It felt kinda loud and claustrophobic. The service was not bad. The prices were moderate. I paid 1300+ for two non-veg lunch buffets.\n",
      "Medhavi 5 Enjoyed a wide range of dishes at this buffet outlet with aesthetic interiors and designer exteriors. Scrumptious barbeque starters with grilled chicken,fish tikka in skewers on the table. Sipped on a variety of mocktails plus the singer was there to entertain throughout our time there. The main course dishes were made very well with excellent sea food, dum biryani , paneer dishes, types of breads and exquisite desserts to choose from namely white chocolate brownie , pineapple pastries , truffle cake and cut fruits. Would definitely recommend to one and all.\n",
      "Piyush Matreja 5 Live singing, spectacular ambience and every one enjoying to the grilled kebabs on their table, that's Themis barbeque all about. Based on the concept of buffet where you start with snacks on the table with cool mocktails. I tried the lemon ice tea and charred prawns tikka as well as chicken malai tikka ,their non veg starters were great. Main course I had mutton rogan josh with lachha parantha and enjoyed a few of my favourite desserts namely strawberry tarts and a chocolate truffle cake with cherries. I must say that was a good lunch I relished after long.\n",
      "Kimaya Divya 5 A place offering a buffet concept in the northern part of Delhi, with live music , a dj set up, comfortable seating. They have a set up of a grill hot plate with food grilled on skewers. We opted for non veg set up and ate prawns , chicken malai tikka , tandoori chicken in the hot portion, while chilly fish ,pizzas and mutton seekh kebab were served separately. The main course had lots of variety with dal Makhani, paneer kadhai , mix vegetable, chicken pilaf ,mutton rogan josh. The restaurant did their level best and made our time a memorable one.\n"
     ]
    }
   ],
   "source": [
    "\n",
    "user_key='3754f0440b3026cde542ed69af9f499a'\n",
    "basic_api='https://developers.zomato.com/api/v2.1'\n",
    "res_id=18204820\n",
    "params={'res_id':res_id}\n",
    "header={\"User-agent\": \"curl/7.43.0\",'Accept': 'application/json','user-key':user_key}\n",
    "response=requests.get(basic_api+'/reviews',headers=header,params=params)\n",
    "for i in response.json().get('user_reviews'):\n",
    "    print(i.get('review').get('user').get('name'),i.get('review').get('rating'),i.get('review').get('review_text'))"
   ]
  },
  {
   "cell_type": "markdown",
   "metadata": {},
   "source": [
    "### 3.4.Experiment with the radius parameter that is present in ‘GET/search’. Fetch the list of top 10 best-restaurant present in a radius of 4 km of coding ninjas.\n",
    "- Print the restaurant name, user rating, restaurant id and locality in which restaurant is present."
   ]
  },
  {
   "cell_type": "code",
   "execution_count": 17,
   "metadata": {},
   "outputs": [
    {
     "name": "stdout",
     "output_type": "stream",
     "text": [
      "Ah So Yum 4.9 18945610 Golf Course Road\n",
      "Son Of A Bun 4.9 19300210 Golf Course Road\n",
      "Oishii Wok 4.9 19078918 DLF Phase 4\n",
      "Indian Accent 4.9 2004 The Lodhi, Lodhi Road\n",
      "Dana Choga 4.9 549 Sector 14\n",
      "Chili's Grill & Bar 4.9 18607069 Pacific Mall, Tagore Garden\n",
      "Nomad Pizza - Traveller Series 4.9 19296958 DLF Phase 4\n",
      "Master Koii's 4.8 18819947 Sushant Lok\n",
      "Cafe Wink 4.8 7224 Anand Vihar\n",
      "Chili's Grill & Bar 4.8 4751 Ambience Mall, Vasant Kunj\n"
     ]
    }
   ],
   "source": [
    "\n",
    "latitude=\"28.697522\"\n",
    "longitude=\"77.140681\"\n",
    "user_key='3754f0440b3026cde542ed69af9f499a'\n",
    "basic_api='https://developers.zomato.com/api/v2.1'\n",
    "header={\"User-agent\": \"curl/7.43.0\",'Accept': 'application/json','user-key':user_key}\n",
    "params={'lat':latitude,'lon':longitude,'radius':4000,'sort':'rating','count':10}\n",
    "response=requests.get(basic_api+'/search',headers=header,params=params)\n",
    "for i in response.json().get('restaurants'):\n",
    "    print(i.get('restaurant').get('name'),i.get('restaurant').get('user_rating').get('aggregate_rating'),\n",
    "        i.get('restaurant').get('R').get('res_id'),i.get('restaurant').get('location').get('locality'))"
   ]
  }
 ],
 "metadata": {
  "kernelspec": {
   "display_name": "Python 3",
   "language": "python",
   "name": "python3"
  },
  "language_info": {
   "codemirror_mode": {
    "name": "ipython",
    "version": 3
   },
   "file_extension": ".py",
   "mimetype": "text/x-python",
   "name": "python",
   "nbconvert_exporter": "python",
   "pygments_lexer": "ipython3",
   "version": "3.7.3"
  }
 },
 "nbformat": 4,
 "nbformat_minor": 2
}
